{
 "cells": [
  {
   "cell_type": "code",
   "execution_count": 1,
   "metadata": {},
   "outputs": [],
   "source": [
    "from __future__ import print_function\n",
    "\n",
    "import matplotlib.pyplot as plt\n",
    "%matplotlib inline\n",
    "%matplotlib notebook\n",
    "from ipywidgets import interact, FloatSlider\n",
    "import numpy as np\n",
    "import SimpleITK as sitk\n",
    "\n",
    "# Download data to work on\n",
    "%run update_path_to_download_script\n",
    "from downloaddata import fetch_data as fdata\n",
    "from myshow import myshow, myshow3d\n",
    "# import itk\n",
    "import gui\n",
    "import os"
   ]
  },
  {
   "cell_type": "code",
   "execution_count": 2,
   "metadata": {},
   "outputs": [
    {
     "data": {
      "text/plain": [
       "'C:\\\\Users\\\\Chia\\\\AppData\\\\Roaming\\\\SPB_16.6'"
      ]
     },
     "execution_count": 2,
     "metadata": {},
     "output_type": "execute_result"
    }
   ],
   "source": [
    "import os\n",
    "os.getcwd()"
   ]
  },
  {
   "cell_type": "code",
   "execution_count": 3,
   "metadata": {
    "scrolled": true
   },
   "outputs": [
    {
     "data": {
      "application/vnd.jupyter.widget-view+json": {
       "model_id": "98cedbda3b9449b9bb6de74338daf4a9",
       "version_major": 2,
       "version_minor": 0
      },
      "text/plain": [
       "interactive(children=(IntSlider(value=75, description='z', max=150), Output()), _dom_classes=('widget-interact…"
      ]
     },
     "metadata": {},
     "output_type": "display_data"
    }
   ],
   "source": [
    "#image upload and rescaling\n",
    "\n",
    "DIR=\"C:\\\\snap\\\\healthy\"\n",
    "img = sitk.ReadImage(\"C://Users//Chia//Desktop//Second Year//HospitalProject//CTA_Head.nrrd\")\n",
    "\n",
    "img_255 = sitk.Cast(sitk.RescaleIntensity(img), sitk.sitkInt32)\n",
    "\n",
    "myshow(img_255)"
   ]
  },
  {
   "cell_type": "code",
   "execution_count": 4,
   "metadata": {},
   "outputs": [
    {
     "data": {
      "application/vnd.jupyter.widget-view+json": {
       "model_id": "b676477eee8148ed9cc7ea61f2d75911",
       "version_major": 2,
       "version_minor": 0
      },
      "text/plain": [
       "interactive(children=(IntSlider(value=75, description='z', max=150), Output()), _dom_classes=('widget-interact…"
      ]
     },
     "metadata": {},
     "output_type": "display_data"
    }
   ],
   "source": [
    "# Otsu thresholding filter -> binary image\n",
    "FOV_mask = sitk.OtsuThreshold(img,0,1)\n",
    "FOV_image = sitk.Mask(img,FOV_mask)\n",
    "OTSU_mask = sitk.OtsuThreshold(FOV_image)\n",
    "OTSU_image = sitk.Mask(img,OTSU_mask)\n",
    "otsu_255 = sitk.Cast(sitk.RescaleIntensity(OTSU_image), sitk.sitkInt32)\n",
    "myshow(OTSU_image)\n",
    "\n",
    "# sitk.WriteImage(otsu_255, os.path.join(DIR, 'otzu.mhd'))\n",
    "# myshow(otsu_255)"
   ]
  },
  {
   "cell_type": "code",
   "execution_count": 5,
   "metadata": {},
   "outputs": [
    {
     "data": {
      "application/vnd.jupyter.widget-view+json": {
       "model_id": "19234fd503534735af9b0cb108f423d5",
       "version_major": 2,
       "version_minor": 0
      },
      "text/plain": [
       "interactive(children=(IntSlider(value=75, description='z', max=150), Output()), _dom_classes=('widget-interact…"
      ]
     },
     "metadata": {},
     "output_type": "display_data"
    }
   ],
   "source": [
    "#segmentation\n",
    "seed = (174,114,76)\n",
    "seg_reg = sitk.Image(otsu_255.GetSize(), sitk.sitkInt32)\n",
    "seg_reg.CopyInformation(otsu_255)\n",
    "seg_reg[seed] = 1\n",
    "seg_reg = sitk.BinaryDilate(seg_reg, 3)\n",
    "myshow(sitk.LabelOverlay(otsu_255, seg_reg), \"Initial Seed\")"
   ]
  },
  {
   "cell_type": "code",
   "execution_count": 6,
   "metadata": {},
   "outputs": [
    {
     "data": {
      "application/vnd.jupyter.widget-view+json": {
       "model_id": "388fc8b1229f481fb249373285c6b8f0",
       "version_major": 2,
       "version_minor": 0
      },
      "text/plain": [
       "interactive(children=(IntSlider(value=75, description='z', max=150), Output()), _dom_classes=('widget-interact…"
      ]
     },
     "metadata": {},
     "output_type": "display_data"
    },
    {
     "name": "stdout",
     "output_type": "stream",
     "text": [
      "(340, 347, 151)\n"
     ]
    }
   ],
   "source": [
    "seg_reg = sitk.ConnectedThreshold(otsu_255, seedList=[seed], lower=0, upper=150)\n",
    "myshow(sitk.LabelOverlay(otsu_255, seg_reg), \"Connected Threshold\")\n",
    "print(seg_reg.GetSize())\n",
    "# sitk.WriteImage(seg_reg, os.path.join(DIR, 'segm.mhd'))"
   ]
  },
  {
   "cell_type": "code",
   "execution_count": 7,
   "metadata": {},
   "outputs": [
    {
     "data": {
      "application/vnd.jupyter.widget-view+json": {
       "model_id": "5ef19ba85ea44daea7164cce36776aea",
       "version_major": 2,
       "version_minor": 0
      },
      "text/plain": [
       "interactive(children=(IntSlider(value=38, description='z', max=77), Output()), _dom_classes=('widget-interact'…"
      ]
     },
     "metadata": {},
     "output_type": "display_data"
    }
   ],
   "source": [
    "# Cropping segmentation\n",
    "#best way to crop using ROI filter\n",
    "filt=sitk.RegionOfInterestImageFilter()\n",
    "\n",
    "filt.SetIndex([127,81,23])#,[84,208,14],[166,208,14],[84,121,36], [166,121,36],[84,208,36],[166,208,36])\n",
    "filt.SetSize([221-127,156-81, 101-23])\n",
    "cr1=filt.Execute(seg_reg)\n",
    "\n",
    "# sitk.WriteImage(cr1, os.path.join(DIR, 'segmentation1.mhd'))\n",
    "\n",
    "myshow(cr1)"
   ]
  },
  {
   "cell_type": "code",
   "execution_count": 8,
   "metadata": {},
   "outputs": [
    {
     "data": {
      "application/vnd.jupyter.widget-view+json": {
       "model_id": "c5e91ca920ca426692305c103f1b83d5",
       "version_major": 2,
       "version_minor": 0
      },
      "text/plain": [
       "interactive(children=(IntSlider(value=38, description='z', max=77), Output()), _dom_classes=('widget-interact'…"
      ]
     },
     "metadata": {},
     "output_type": "display_data"
    }
   ],
   "source": [
    "#center line with scimage\n",
    "import skimage.morphology\n",
    "\n",
    "nda = sitk.GetArrayFromImage(cr1)\n",
    "# # print(nda)\n",
    "axis_arr=skimage.morphology.skeletonize_3d(nda)\n",
    "axis = sitk.GetImageFromArray(axis_arr)\n",
    "sitk.WriteImage(axis, os.path.join(DIR, 'img_sciskeleton3D.mhd'))\n",
    "\n",
    "myshow(axis, \"middle line\")"
   ]
  },
  {
   "cell_type": "code",
   "execution_count": 9,
   "metadata": {},
   "outputs": [],
   "source": [
    "from scipy.spatial import distance\n",
    "\n",
    "size=cr1.GetSize()\n",
    "s=size[2]\n",
    "eu_s=[]\n",
    "for z in range(0, size[2]):\n",
    "    slicex=nda[:][:][z]\n",
    "    sliceindex=slicex.nonzero()\n",
    "\n",
    "    skelx=axis_arr[:][:][z]\n",
    "    skelindex=skelx.nonzero()\n",
    "    eu_p=[]\n",
    "    if skelindex[0][:].size == 1:\n",
    "        for p in range(0,sliceindex[1][:].size):\n",
    "            a=(sliceindex[0][p], sliceindex[1][p])\n",
    "            b=(skelindex[0], skelindex[1])\n",
    "            euclide=distance.euclidean(a, b)\n",
    "            eu_p.append(euclide)\n",
    "        eu=np.hstack(eu_p)\n",
    "        e=max(eu)\n",
    "        \n",
    "    else: e=0\n",
    "    eu_s.append(e)    \n",
    "cross_sec=np.hstack(eu_s)\n",
    "        "
   ]
  },
  {
   "cell_type": "code",
   "execution_count": 10,
   "metadata": {},
   "outputs": [
    {
     "name": "stdout",
     "output_type": "stream",
     "text": [
      "[ 0.          0.          0.          0.         36.05551275  0.\n",
      "  0.          0.          0.          0.          0.          0.\n",
      "  0.          0.         28.16025568 28.16025568 29.15475947 28.28427125\n",
      " 28.28427125  0.          0.          0.          0.          0.\n",
      "  0.          0.          0.          0.          0.          0.\n",
      " 29.61418579 30.2654919  30.2654919  29.15475947 28.7923601  28.7923601\n",
      " 28.7923601  28.23118843 27.31300057 26.83281573 26.41968963 26.41968963\n",
      " 26.41968963 26.41968963 24.18677324 23.32380758 21.63330765 20.80865205\n",
      " 17.02938637 15.         15.65247584 17.08800749 17.08800749 18.02775638\n",
      " 18.43908891 17.2626765  14.14213562 12.52996409 12.36931688 12.64911064\n",
      " 12.64911064 13.         14.31782106 14.31782106 13.92838828 14.56021978\n",
      " 14.56021978 15.23154621 14.86606875 14.86606875 14.31782106 14.14213562\n",
      " 14.76482306  0.          0.         16.4924225   0.          0.        ]\n"
     ]
    }
   ],
   "source": [
    "print(cross_sec)"
   ]
  },
  {
   "cell_type": "code",
   "execution_count": 11,
   "metadata": {},
   "outputs": [
    {
     "name": "stdout",
     "output_type": "stream",
     "text": [
      "[ 0  1  2  3  4  5  6  7  8  9 10 11 12 13 14 15 16 17 18 19 20 21 22 23\n",
      " 24 25 26 27 28 29 30 31 32 33 34 35 36 37 38 39 40 41 42 43 44 45 46 47\n",
      " 48 49 50 51 52 53 54 55 56 57 58 59 60 61 62 63 64 65 66 67 68 69 70 71\n",
      " 72 73 74 75 76 77]\n",
      "[ 0.          0.          0.          0.         36.05551275  0.\n",
      "  0.          0.          0.          0.          0.          0.\n",
      "  0.          0.         28.16025568 28.16025568 29.15475947 28.28427125\n",
      " 28.28427125  0.          0.          0.          0.          0.\n",
      "  0.          0.          0.          0.          0.          0.\n",
      " 29.61418579 30.2654919  30.2654919  29.15475947 28.7923601  28.7923601\n",
      " 28.7923601  28.23118843 27.31300057 26.83281573 26.41968963 26.41968963\n",
      " 26.41968963 26.41968963 24.18677324 23.32380758 21.63330765 20.80865205\n",
      " 17.02938637 15.         15.65247584 17.08800749 17.08800749 18.02775638\n",
      " 18.43908891 17.2626765  14.14213562 12.52996409 12.36931688 12.64911064\n",
      " 12.64911064 13.         14.31782106 14.31782106 13.92838828 14.56021978\n",
      " 14.56021978 15.23154621 14.86606875 14.86606875 14.31782106 14.14213562\n",
      " 14.76482306  0.          0.         16.4924225   0.          0.        ]\n"
     ]
    }
   ],
   "source": [
    "x=range(0, 78)\n",
    "x=np.array(x)\n",
    "print(x)\n",
    "coss=np.array(cross_sec)\n",
    "print(coss)"
   ]
  },
  {
   "cell_type": "code",
   "execution_count": 12,
   "metadata": {},
   "outputs": [
    {
     "data": {
      "image/png": "[encoded data removed]",
      "text/plain": [
       "<Figure size 432x288 with 1 Axes>"
      ]
     },
     "metadata": {
      "needs_background": "light"
     },
     "output_type": "display_data"
    }
   ],
   "source": [
    "plt.plot(coss, 'bo')\n",
    "\n",
    "plt.title('Cross-Section-Healthy Subject')\n",
    "plt.ylabel('Euclidian Distance')\n",
    "plt.xlabel('Lower towards Upper Throat')\n",
    "plt.show()"
   ]
  },
  {
   "cell_type": "code",
   "execution_count": null,
   "metadata": {},
   "outputs": [],
   "source": []
  }
 ],
 "metadata": {
  "kernelspec": {
   "display_name": "Python 3",
   "language": "python",
   "name": "python3"
  },
  "language_info": {
   "codemirror_mode": {
    "name": "ipython",
    "version": 3
   },
   "file_extension": ".py",
   "mimetype": "text/x-python",
   "name": "python",
   "nbconvert_exporter": "python",
   "pygments_lexer": "ipython3",
   "version": "3.7.1"
  }
 },
 "nbformat": 4,
 "nbformat_minor": 2
}
