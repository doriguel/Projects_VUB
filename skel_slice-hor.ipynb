{
 "cells": [
  {
   "cell_type": "code",
   "execution_count": 1,
   "metadata": {},
   "outputs": [],
   "source": [
    "from __future__ import print_function\n",
    "\n",
    "import matplotlib.pyplot as plt\n",
    "%matplotlib inline\n",
    "%matplotlib notebook\n",
    "from ipywidgets import interact, FloatSlider\n",
    "import numpy as np\n",
    "import SimpleITK as sitk\n",
    "\n",
    "# Download data to work on\n",
    "%run update_path_to_download_script\n",
    "from downloaddata import fetch_data as fdata\n",
    "from myshow import myshow, myshow3d\n",
    "# import itk\n",
    "import gui\n",
    "import os"
   ]
  },
  {
   "cell_type": "code",
   "execution_count": 2,
   "metadata": {},
   "outputs": [
    {
     "data": {
      "text/plain": [
       "'C:\\\\Users\\\\Chia\\\\AppData\\\\Roaming\\\\SPB_16.6'"
      ]
     },
     "execution_count": 2,
     "metadata": {},
     "output_type": "execute_result"
    }
   ],
   "source": [
    "import os\n",
    "os.getcwd()"
   ]
  },
  {
   "cell_type": "code",
   "execution_count": 3,
   "metadata": {
    "scrolled": true
   },
   "outputs": [
    {
     "data": {
      "application/vnd.jupyter.widget-view+json": {
       "model_id": "27e1e2d8b62e4f758cbea46e1d5b6255",
       "version_major": 2,
       "version_minor": 0
      },
      "text/plain": [
       "interactive(children=(IntSlider(value=75, description='z', max=150), Output()), _dom_classes=('widget-interact…"
      ]
     },
     "metadata": {},
     "output_type": "display_data"
    }
   ],
   "source": [
    "#image upload and rescaling\n",
    "\n",
    "DIR=\"C:\\\\Users\\\\Chia\\\\Desktop\\\\Second Year\\\\YDB0001\"\n",
    "img = sitk.ReadImage(\"C://Users//Chia//Desktop//Second Year//HospitalProject//CTA_Head.nrrd\")\n",
    "\n",
    "img_255 = sitk.Cast(sitk.RescaleIntensity(img), sitk.sitkInt32)\n",
    "\n",
    "myshow(img_255)"
   ]
  },
  {
   "cell_type": "code",
   "execution_count": 4,
   "metadata": {},
   "outputs": [
    {
     "data": {
      "application/vnd.jupyter.widget-view+json": {
       "model_id": "3dbd93a9c9604ecdac82751ca1ae253d",
       "version_major": 2,
       "version_minor": 0
      },
      "text/plain": [
       "interactive(children=(IntSlider(value=75, description='z', max=150), Output()), _dom_classes=('widget-interact…"
      ]
     },
     "metadata": {},
     "output_type": "display_data"
    }
   ],
   "source": [
    "# Otsu thresholding filter -> binary image\n",
    "FOV_mask = sitk.OtsuThreshold(img,0,1)\n",
    "FOV_image = sitk.Mask(img,FOV_mask)\n",
    "OTSU_mask = sitk.OtsuThreshold(FOV_image)\n",
    "OTSU_image = sitk.Mask(img,OTSU_mask)\n",
    "otsu_255 = sitk.Cast(sitk.RescaleIntensity(OTSU_image), sitk.sitkInt32)\n",
    "myshow(OTSU_image)\n",
    "\n",
    "# sitk.WriteImage(otsu_255, os.path.join(DIR, 'otzu.mhd'))\n",
    "# myshow(otsu_255)"
   ]
  },
  {
   "cell_type": "code",
   "execution_count": 5,
   "metadata": {},
   "outputs": [
    {
     "data": {
      "application/vnd.jupyter.widget-view+json": {
       "model_id": "22e6cd149a9f4c2aa9f554d87e4b280f",
       "version_major": 2,
       "version_minor": 0
      },
      "text/plain": [
       "interactive(children=(IntSlider(value=75, description='z', max=150), Output()), _dom_classes=('widget-interact…"
      ]
     },
     "metadata": {},
     "output_type": "display_data"
    }
   ],
   "source": [
    "#segmentation\n",
    "seed = (174,114,76)\n",
    "seg_reg = sitk.Image(otsu_255.GetSize(), sitk.sitkInt32)\n",
    "seg_reg.CopyInformation(otsu_255)\n",
    "seg_reg[seed] = 1\n",
    "seg_reg = sitk.BinaryDilate(seg_reg, 3)\n",
    "myshow(sitk.LabelOverlay(otsu_255, seg_reg), \"Initial Seed\")"
   ]
  },
  {
   "cell_type": "code",
   "execution_count": 6,
   "metadata": {},
   "outputs": [
    {
     "data": {
      "application/vnd.jupyter.widget-view+json": {
       "model_id": "d3472358b5b0498e8ee139d9da3ddf8c",
       "version_major": 2,
       "version_minor": 0
      },
      "text/plain": [
       "interactive(children=(IntSlider(value=75, description='z', max=150), Output()), _dom_classes=('widget-interact…"
      ]
     },
     "metadata": {},
     "output_type": "display_data"
    },
    {
     "name": "stdout",
     "output_type": "stream",
     "text": [
      "(340, 347, 151)\n"
     ]
    }
   ],
   "source": [
    "seg_reg = sitk.ConnectedThreshold(otsu_255, seedList=[seed], lower=0, upper=150)\n",
    "myshow(sitk.LabelOverlay(otsu_255, seg_reg), \"Connected Threshold\")\n",
    "print(seg_reg.GetSize())\n",
    "sitk.WriteImage(seg_reg, os.path.join(DIR, 'segm.mhd'))"
   ]
  },
  {
   "cell_type": "code",
   "execution_count": 7,
   "metadata": {},
   "outputs": [
    {
     "data": {
      "application/vnd.jupyter.widget-view+json": {
       "model_id": "838634a41ddf45fa8a0138b246915dcb",
       "version_major": 2,
       "version_minor": 0
      },
      "text/plain": [
       "interactive(children=(IntSlider(value=38, description='z', max=77), Output()), _dom_classes=('widget-interact'…"
      ]
     },
     "metadata": {},
     "output_type": "display_data"
    }
   ],
   "source": [
    "# Cropping segmentation\n",
    "#best way to crop using ROI filter\n",
    "filt=sitk.RegionOfInterestImageFilter()\n",
    "\n",
    "filt.SetIndex([127,81,23])#,[84,208,14],[166,208,14],[84,121,36], [166,121,36],[84,208,36],[166,208,36])\n",
    "filt.SetSize([221-127,156-81,101-23])\n",
    "cr1=filt.Execute(seg_reg)\n",
    "\n",
    "sitk.WriteImage(cr1, os.path.join(DIR, 'segmentation1.mhd'))\n",
    "\n",
    "myshow(cr1)"
   ]
  },
  {
   "cell_type": "code",
   "execution_count": 8,
   "metadata": {},
   "outputs": [
    {
     "data": {
      "application/vnd.jupyter.widget-view+json": {
       "model_id": "b55ffd44456a40c9adf8d82264a1b189",
       "version_major": 2,
       "version_minor": 0
      },
      "text/plain": [
       "interactive(children=(IntSlider(value=38, description='z', max=77), Output()), _dom_classes=('widget-interact'…"
      ]
     },
     "metadata": {},
     "output_type": "display_data"
    },
    {
     "name": "stdout",
     "output_type": "stream",
     "text": [
      "(94, 75, 78)\n",
      "(78, 75, 94)\n"
     ]
    }
   ],
   "source": [
    "#center line with scimage\n",
    "import skimage.morphology\n",
    "\n",
    "nda = sitk.GetArrayFromImage(cr1)\n",
    "# # print(nda)\n",
    "axis=skimage.morphology.skeletonize_3d(nda)\n",
    "axis = sitk.GetImageFromArray(axis)\n",
    "sitk.WriteImage(axis, os.path.join(DIR, 'img_sciskeleton3D.mhd'))\n",
    "\n",
    "myshow(axis, \"middle line\")\n",
    "print(cr1.GetSize())\n",
    "print(nda.shape)"
   ]
  },
  {
   "cell_type": "code",
   "execution_count": 15,
   "metadata": {},
   "outputs": [
    {
     "data": {
      "application/vnd.jupyter.widget-view+json": {
       "model_id": "83b5c6cd8d11480ba0a54686e98c3631",
       "version_major": 2,
       "version_minor": 0
      },
      "text/plain": [
       "interactive(children=(IntSlider(value=38, description='z', max=77), Output()), _dom_classes=('widget-interact'…"
      ]
     },
     "metadata": {},
     "output_type": "display_data"
    }
   ],
   "source": [
    "pasted_img=sitk.Image(cr1.GetSize(), sitk.sitkUInt8)\n",
    "\n",
    "#medial axis in the horizontal plane\n",
    "sk=np.zeros((221-127,156-81))\n",
    "for x in range(0,78):\n",
    "    sl=cr1[:,:,x]\n",
    "    nda = sitk.GetArrayFromImage(sl)\n",
    "# print(nda.size)\n",
    "    skel=skimage.morphology.skeletonize(nda)\n",
    "# print(skel.size)\n",
    "    skel_int = skel.astype(np.uint8)\n",
    "    skelindex=skel_int.nonzero()\n",
    "    a=int(skelindex[0][:].size/2)\n",
    "    x_skel=skelindex[0][a]\n",
    "    y_skel=skelindex[1][a]\n",
    "    sk[x_skel][y_skel]=1\n",
    "    skel_img=sitk.GetImageFromArray(skel_int)\n",
    "    \n",
    "# print(skel_int.size)\n",
    "    slice_vol = sitk.JoinSeries(skel_img)\n",
    "\n",
    "# z insertion location\n",
    "\n",
    "# paste the 3d white slice into the black volume\n",
    "    pasted_img = sitk.Paste(pasted_img, slice_vol, slice_vol.GetSize(), destinationIndex=[0,0,x])\n",
    "sitk.WriteImage(pasted_img, os.path.join(DIR, 'pasted_img.mhd'))\n",
    "myshow(pasted_img)"
   ]
  },
  {
   "cell_type": "code",
   "execution_count": 10,
   "metadata": {},
   "outputs": [],
   "source": [
    "skel_img.GetPixelIDTypeAsString()\n",
    "b=int(y_skel.astype('uint8'))\n",
    "a=int(x_skel.astype('uint8'))\n",
    "skel_img.SetPixel(a, b, 1)\n"
   ]
  },
  {
   "cell_type": "code",
   "execution_count": 68,
   "metadata": {},
   "outputs": [
    {
     "data": {
      "application/vnd.jupyter.widget-view+json": {
       "model_id": "1ba3f3dc07cd4ce193d1606275ef31cc",
       "version_major": 2,
       "version_minor": 0
      },
      "text/plain": [
       "interactive(children=(IntSlider(value=38, description='z', max=77), Output()), _dom_classes=('widget-interact'…"
      ]
     },
     "metadata": {},
     "output_type": "display_data"
    }
   ],
   "source": [
    "import statistics\n",
    "pasted_img=sitk.Image(cr1.GetSize(), sitk.sitkUInt8)\n",
    "l=cr1.GetSize()\n",
    "#medial axis in the horizontal plane\n",
    "sk=np.zeros((221-127,156-81))\n",
    "for x in range(0,78):\n",
    "    sl=cr1[:,:,x]\n",
    "    nda = sitk.GetArrayFromImage(sl)\n",
    "    # print(nda.size)\n",
    "    skel=skimage.morphology.skeletonize(nda)\n",
    "    # print(skel.size)\n",
    "    skel_int = skel.astype(np.uint8)\n",
    "    skelindex=skel_int.nonzero()\n",
    "    c=np.sort(skelindex)\n",
    "    a=int(statistics.mean(c[0]))\n",
    "    b=int(statistics.mean(c[1]))\n",
    "#     x_skel=skelindex[0][a]\n",
    "#     y_skel=skelindex[1][b]\n",
    "    \n",
    "    skel_img= sitk.Image(l[0], l[1], sitk.sitkUInt8)\n",
    "#     b=int(y_skel.astype('uint8'))\n",
    "#     a=int(x_skel.astype('uint8'))\n",
    "    skel_img.SetPixel(a, b, 1)\n",
    "    # print(skel_int.size)\n",
    "    slice_vol = sitk.JoinSeries(skel_img)\n",
    "\n",
    "    # z insertion location\n",
    "\n",
    "    # paste the 3d white slice into the black volume\n",
    "    pasted_img = sitk.Paste(pasted_img, slice_vol, slice_vol.GetSize(), destinationIndex=[0,0,x])\n",
    "sitk.WriteImage(pasted_img, os.path.join(DIR, 'skelhor.mhd'))\n",
    "myshow(pasted_img)"
   ]
  },
  {
   "cell_type": "code",
   "execution_count": 69,
   "metadata": {},
   "outputs": [
    {
     "data": {
      "text/plain": [
       "46.5"
      ]
     },
     "execution_count": 69,
     "metadata": {},
     "output_type": "execute_result"
    }
   ],
   "source": [
    "import statistics\n",
    "\n",
    "c=np.sort(skelindex)\n",
    "statistics.median(c[0])\n",
    "statistics.median(c[1])"
   ]
  },
  {
   "cell_type": "code",
   "execution_count": 70,
   "metadata": {},
   "outputs": [],
   "source": [
    "from scipy.spatial import distance\n",
    "\n",
    "size=cr1.GetSize()\n",
    "nda = sitk.GetArrayFromImage(cr1)\n",
    "\n",
    "pasted_arr=sitk.GetArrayFromImage(pasted_img)\n",
    "s=size[2]\n",
    "eu_s=[]\n",
    "for z in range(0, size[2]):\n",
    "    slicex=nda[:][:][z]\n",
    "    sliceindex=slicex.nonzero()\n",
    "\n",
    "    skelx=pasted_arr[:][:][z]\n",
    "    skelindex=skelx.nonzero()\n",
    "    eu_p=[]\n",
    "    if skelindex[0][:].size == 1:\n",
    "        for p in range(0,sliceindex[1][:].size):\n",
    "            a=(sliceindex[0][p], sliceindex[1][p])\n",
    "            b=(skelindex[0], skelindex[1])\n",
    "            euclide=distance.euclidean(a, b)\n",
    "            eu_p.append(euclide)\n",
    "        eu=np.hstack(eu_p)\n",
    "        e=max(eu)\n",
    "        \n",
    "    else: e=0\n",
    "    eu_s.append(e)    \n",
    "cross_sec=np.hstack(eu_s)"
   ]
  },
  {
   "cell_type": "code",
   "execution_count": 71,
   "metadata": {},
   "outputs": [
    {
     "name": "stdout",
     "output_type": "stream",
     "text": [
      "[ 0  1  2  3  4  5  6  7  8  9 10 11 12 13 14 15 16 17 18 19 20 21 22 23\n",
      " 24 25 26 27 28 29 30 31 32 33 34 35 36 37 38 39 40 41 42 43 44 45 46 47\n",
      " 48 49 50 51 52 53 54 55 56 57 58 59 60 61 62 63 64 65 66 67 68 69 70 71\n",
      " 72 73 74 75 76 77]\n",
      "[48.87739764 48.02082881 48.02082881 50.7740091  52.69724851 53.53503526\n",
      " 53.         53.66563146 53.23532662 54.12947441 54.62600113 54.23098745\n",
      " 55.15432893 55.15432893 54.62600113 54.23098745 52.92447449 51.623638\n",
      " 51.88448708 49.76946855 50.56678752 49.04079934 48.70318265 49.76946855\n",
      " 49.04079934 48.46648326 50.15974482 50.15974482 51.07837116 50.56678752\n",
      " 51.4781507  50.69516742 50.56678752 48.46648326 45.88027899 46.06517123\n",
      " 43.9089968  42.54409477 41.59326869 39.8246155  38.48376281 38.58756276\n",
      " 38.07886553 37.21558813 37.58989226 37.58989226 36.24913792 36.24913792\n",
      " 33.83784863 32.80243893 32.55764119 31.89043744 31.40063694 31.2409987\n",
      " 31.144823   31.144823   32.01562119 34.82814953 35.4682957  35.80502758\n",
      " 35.22782991 35.22782991 35.22782991 33.83784863 32.75667871 32.44996148\n",
      " 33.60059523 31.6227766  29.15475947 27.78488798 26.92582404 25.8069758\n",
      " 23.40939982 22.47220505 21.1896201  21.1896201  19.6468827  19.31320792]\n"
     ]
    }
   ],
   "source": [
    "x=range(0, 78)\n",
    "x=np.array(x)\n",
    "print(x)\n",
    "coss=np.array(cross_sec)\n",
    "print(coss)"
   ]
  },
  {
   "cell_type": "code",
   "execution_count": 72,
   "metadata": {},
   "outputs": [
    {
     "data": {
      "image/png": "[encoded data removed]",
      "text/plain": [
       "<Figure size 432x288 with 1 Axes>"
      ]
     },
     "metadata": {
      "needs_background": "light"
     },
     "output_type": "display_data"
    }
   ],
   "source": [
    "plt.plot(coss, 'bo')\n",
    "\n",
    "plt.title('Cross-Section-Healthy Subject')\n",
    "plt.ylabel('Euclidian Distance')\n",
    "plt.xlabel('Lower towards Upper Throat')\n",
    "plt.show()"
   ]
  },
  {
   "cell_type": "code",
   "execution_count": null,
   "metadata": {},
   "outputs": [],
   "source": []
  },
  {
   "cell_type": "code",
   "execution_count": null,
   "metadata": {},
   "outputs": [],
   "source": []
  }
 ],
 "metadata": {
  "kernelspec": {
   "display_name": "Python 3",
   "language": "python",
   "name": "python3"
  },
  "language_info": {
   "codemirror_mode": {
    "name": "ipython",
    "version": 3
   },
   "file_extension": ".py",
   "mimetype": "text/x-python",
   "name": "python",
   "nbconvert_exporter": "python",
   "pygments_lexer": "ipython3",
   "version": "3.7.1"
  }
 },
 "nbformat": 4,
 "nbformat_minor": 2
}
